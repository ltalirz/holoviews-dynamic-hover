{
 "cells": [
  {
   "cell_type": "code",
   "execution_count": null,
   "metadata": {},
   "outputs": [],
   "source": [
    "import holoviews as hv\n",
    "from holoviews.operation.datashader import datashade\n",
    "import numpy as np\n",
    "\n",
    "npt = 200000\n",
    "threshold = 2000\n",
    "\n",
    "hv.notebook_extension('bokeh')\n",
    "points = hv.Points(np.random.multivariate_normal((0,0), [[0.1, 0.1], [0.1, 1.0]], (npt,)))\n",
    "\n",
    "def filter_points(points, x_range, y_range):\n",
    "    \"\"\"Filter points by x/y range.\n",
    "    \n",
    "    To be used with RangeXY stream.\n",
    "    \"\"\"\n",
    "    if x_range is None or y_range is None:\n",
    "        return points\n",
    "    return points[x_range, y_range]\n",
    "\n",
    "def hover_points(points, threshold=threshold):\n",
    "    \"\"\"Filter points by threshold.\n",
    "    \n",
    "    Returns empty list if number of input points exceeds threshold.\n",
    "    \"\"\"\n",
    "    if len(points) > threshold:\n",
    "        return points.iloc[:0]\n",
    "    return points\n",
    "\n",
    "filtered = points.apply(filter_points, streams=[hv.streams.RangeXY(source=points)])\n",
    "shaded = datashade(filtered, width=400, height=400)\n",
    "hover = filtered.apply(hover_points)\n",
    "\n",
    "(shaded * hover).opts(\n",
    "    hv.opts.Points(tools=['hover'], active_tools=['wheel_zoom'],\n",
    "                   alpha=0.1, hover_alpha=0.2, size=10, width=600, height=600))"
   ]
  }
 ],
 "metadata": {
  "kernelspec": {
   "display_name": "Python 3",
   "language": "python",
   "name": "python3"
  },
  "language_info": {
   "codemirror_mode": {
    "name": "ipython",
    "version": 3
   },
   "file_extension": ".py",
   "mimetype": "text/x-python",
   "name": "python",
   "nbconvert_exporter": "python",
   "pygments_lexer": "ipython3",
   "version": "3.7.5"
  }
 },
 "nbformat": 4,
 "nbformat_minor": 2
}
